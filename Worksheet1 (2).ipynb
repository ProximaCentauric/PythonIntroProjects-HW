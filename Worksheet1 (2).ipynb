{
 "cells": [
  {
   "cell_type": "markdown",
   "metadata": {},
   "source": [
    "## Worksheet 1\n",
    "\n",
    "\n",
    "### Basic Data Types and Operators\n",
    "\n",
    "### Due on 5/23/21 @ 11:55 pm EST (see Assignment Folder in Sakai)"
   ]
  },
  {
   "cell_type": "markdown",
   "metadata": {},
   "source": [
    "## Authorized help and collaboration rules\n",
    "\n",
    "You **may not** collaborate with friends or teammates. You **may** use your notes, class provided resources (e.g., web links, notebooks,videos, slides) to help you solve the problems below. For effective learning, you should try to complete the worksheet on your own before looking for help. \n",
    "\n",
    "If you have any questions regarding what is, or is not, authorized you must ask. Saying after the fact you didn't understand, or were not sure, is not a valid execuse."
   ]
  },
  {
   "cell_type": "markdown",
   "metadata": {},
   "source": [
    "## Honor pledge\n",
    "\n",
    "I pledge the COMP 116 honor code.\n",
    "\n",
    "To the acknowledgethe **authororized help and collaboration rules** please edit the Markdown below and enter the requested information.\n",
    "\n",
    "```\n",
    "Onyen = mllandon\n",
    "Author = Matthew Landon\n",
    "PID = 730461081\n",
    "```"
   ]
  },
  {
   "cell_type": "markdown",
   "metadata": {},
   "source": [
    "## Python version check\n",
    "\n",
    "After running the next cell you should be running Python version `3.7.0` or later."
   ]
  },
  {
   "cell_type": "code",
   "execution_count": 1,
   "metadata": {},
   "outputs": [
    {
     "name": "stdout",
     "output_type": "stream",
     "text": [
      "3.7.3 (default, Mar 27 2019, 16:54:48) \n",
      "[Clang 4.0.1 (tags/RELEASE_401/final)]\n"
     ]
    }
   ],
   "source": [
    "import sys\n",
    "print(sys.version)"
   ]
  },
  {
   "cell_type": "markdown",
   "metadata": {},
   "source": [
    "*****\n",
    "\n",
    "### Question 1 (numbers, strings, an booleans)\n",
    "\n",
    "In the coding cell below, please complete each the following **and** then print the value of the variable. The printed value must match the number of decimal places.\n",
    "\n",
    "- [1 pt] Create a integer variable named **q1a** and set value to **1**\n",
    "- [1 pt] Create a float variable named **q1b** and set the value to **3.14**\n",
    "- [1 pt] Create a string variable named **q1c** and set the value to a **glitch in the matrix**\n",
    "- [1 pt] Create a boolean variable named **q1d** and set the value to **True**\n"
   ]
  },
  {
   "cell_type": "code",
   "execution_count": 11,
   "metadata": {},
   "outputs": [
    {
     "name": "stdout",
     "output_type": "stream",
     "text": [
      "1\n",
      "3.14\n",
      "glitch in the matrix\n",
      "True\n"
     ]
    }
   ],
   "source": [
    "# put your answers to Question 1 in this cell\n",
    "q1a = 1\n",
    "q1b = 3.14\n",
    "q1c = \"glitch in the matrix\"\n",
    "q1d = True\n",
    "print(q1a)\n",
    "print(q1b)\n",
    "print(q1c)\n",
    "print(q1d)"
   ]
  },
  {
   "cell_type": "markdown",
   "metadata": {},
   "source": [
    "****"
   ]
  },
  {
   "cell_type": "markdown",
   "metadata": {},
   "source": [
    "****\n",
    "### Question 2 (scientific notation)\n",
    "\n",
    "In the coding cell below, please complete each of the following **and** then print the value of the variable using three decimal places using the <a href=\"https://www.w3schools.com/python/ref_string_format.asp\">string format</a> specification. \n",
    "\n",
    "- [1 pt] Create a number variable named **q2a** and set the value to $\\mathbf{3 x 10^{12}}$\n",
    "- [1 pt] Create a number variable named **q2b** and set the value to $\\mathbf{6.12 x 10^{-2}}$.\n",
    "- [1 pt] Create a number variable named **q2c** and set the value to $\\mathbf{-0.314 x 10^{2}}$."
   ]
  },
  {
   "cell_type": "code",
   "execution_count": 18,
   "metadata": {},
   "outputs": [
    {
     "name": "stdout",
     "output_type": "stream",
     "text": [
      "q2a = 300.000\n",
      "q2b = 0.061\n",
      "q2c = -31.400\n"
     ]
    }
   ],
   "source": [
    "# put your answers to Question 2 in this cell\n",
    "q2a = \"q2a = {:.3f}\"\n",
    "q2b = \"q2b = {:.3f}\"\n",
    "q2c = \"q2c = {:.3f}\"\n",
    "print(q2a.format(3*(10**2)))\n",
    "print(q2b.format(6.12*(10**(-2))))\n",
    "print(q2c.format(-0.314*(10**2)))"
   ]
  },
  {
   "cell_type": "markdown",
   "metadata": {},
   "source": [
    "****"
   ]
  },
  {
   "cell_type": "markdown",
   "metadata": {},
   "source": [
    "****\n",
    "### Question 3 (numerical operators)\n",
    "\n",
    "Perform the mathematical operations using numbers (integers or floats). Assume the following number variables and values:\n",
    "- a = 1.23\n",
    "- b = -10\n",
    "- c = -20.111\n",
    "- d = 78\n",
    "- f = 100\n",
    "\n",
    "In the coding cell below, for each equation perform the **calculation** and then **print** the value of the variable using the <a href=\"https://www.w3schools.com/python/ref_string_format.asp\">string format</a> specification. \n",
    "\n",
    "Remember operation precedence.\n",
    "\n",
    "- [1 pt] $q3\\_eq1 = a + b - c$\n",
    "- [1 pt] $q3\\_eq2 = \\frac{a + b * c}{2}$\n",
    "- [1 pt] $q3\\_eq3 = \\frac{b - c}{(f * 2.1)}$\n",
    "- [1 pt] $q3\\_eq4 = f~\\%~b$\n",
    "- [1 pt] $q3\\_eq5 = a^f$"
   ]
  },
  {
   "cell_type": "code",
   "execution_count": 19,
   "metadata": {},
   "outputs": [
    {
     "name": "stdout",
     "output_type": "stream",
     "text": [
      "q3_eq1 = 11.341\n",
      "q3_eq2 = 101.170\n",
      "q3_eq3 = 0.048\n",
      "q3_eq4 = 0.000\n",
      "q3_eq5 = 978388059.773\n"
     ]
    }
   ],
   "source": [
    "# put your answers to Question 3 in this cell\n",
    "a = 1.23\n",
    "b = -10\n",
    "c = -20.111\n",
    "d = 78\n",
    "f = 100\n",
    "q3_eq1 = \"q3_eq1 = {:.3f}\"\n",
    "q3_eq2 = \"q3_eq2 = {:.3f}\"\n",
    "q3_eq3 = \"q3_eq3 = {:.3f}\"\n",
    "q3_eq4 = \"q3_eq4 = {:.3f}\"\n",
    "q3_eq5 = \"q3_eq5 = {:.3f}\"\n",
    "print(q3_eq1.format(a+b-c))\n",
    "print(q3_eq2.format((a+b*c)/2))\n",
    "print(q3_eq3.format((b-c)/(f*2.1)))\n",
    "print(q3_eq4.format(f % b))\n",
    "print(q3_eq5.format(a**f))"
   ]
  },
  {
   "cell_type": "markdown",
   "metadata": {},
   "source": [
    "***"
   ]
  },
  {
   "cell_type": "markdown",
   "metadata": {},
   "source": [
    "****\n",
    "### Question 4 (Strings and String Processing)\n",
    "\n",
    "Using the string variable named **sentence** initialized to **I know kung-fu**. Please perform the string operations and print the value in the notebook. \n",
    "\n",
    "- [1 pt] Create a integer variable named **q4_length_sentence** where the value is the total number of characters in variable **sentence**\n",
    "- [1 pt] Using only the **sentence** variable, create a new string variable named **q4_martial_arts** where the value is **kung-fu**. To recieve full credit, you **must apply** the <a href=\"https://www.w3schools.com/python/python_strings_slicing.asp\">slicing</a> operation to the **sentence** variable.\n",
    "- [1 pt] Create a new string variable named **q4_concat** that appends the string **\\-- ok, show me**. To recieve full credit, you must apply the <a href=\"https://www.w3schools.com/python/python_strings_concatenate.asp\">concatenation</a> operation to the **sentence** variable.\n",
    "- [1 pt] Create a new string variable named **q4_fun_1** where the value is **Iko ugf**. To recieve full credit, you **must apply** the <a href=\"https://www.w3schools.com/python/python_strings_slicing.asp\">slicing</a> operation to the **sentence** variable.\n",
    "- [1 pt] Create a new string variable named **q4_fun_2** where the value is **fu**. To recieve full credit, you **must apply** the <a href=\"https://www.w3schools.com/python/python_strings_slicing.asp\">slicing</a> operation to the **sentence** variable.\n",
    "- [1 pt] Create a new Boolean variable named **q4_fun_3** that indicates if the string **know** is in the **sentence** variable. To recieve full credit, you **must apply** the <a href=\"https://www.w3schools.com/python/python_strings.asp\">in</a> operation to the **sentence** variable.\n",
    "- [1 pt] Create a new string variable named **q4_fun_4** that is the upper-case version of the **sentence** variable. To recieve full credit, you **must apply** the <a href=\"https://www.w3schools.com/python/python_strings_methods.asp\">upper</a> operation to the **sentence** variable.\n",
    "- [1 pt] Create a integer variable named **q4_space_cnt** where the value is the total number of spaces in variable **sentence**. To recieve full credit, you **must apply** the <a href=\"https://www.w3schools.com/python/python_strings_methods.asp\">count</a> operation to the **sentence** variable."
   ]
  },
  {
   "cell_type": "code",
   "execution_count": 20,
   "metadata": {
    "scrolled": true
   },
   "outputs": [
    {
     "name": "stdout",
     "output_type": "stream",
     "text": [
      "15\n",
      "kung-fu.\n",
      "I know kung-fu. -- ok, show me.\n",
      "Iko ugf.\n",
      "fu.\n",
      "True\n",
      "I KNOW KUNG-FU.\n",
      "2\n"
     ]
    }
   ],
   "source": [
    "sentence = \"I know kung-fu.\"\n",
    "\n",
    "# put your answers to Question 4 in this cell\n",
    "\n",
    "q4_length_sentence = len(sentence)\n",
    "q4_martial_arts = sentence[7:]\n",
    "q4_concat = sentence + \" -- ok, show me.\"\n",
    "q4_fun_1 = sentence[0::2]\n",
    "q4_fun_2 = sentence[-3::1]\n",
    "q4_fun_3 = \"know\" in sentence \n",
    "q4_fun_4 = sentence.upper()\n",
    "q4_space_cnt = sentence.count(\" \")\n",
    "\n",
    "print(q4_length_sentence)\n",
    "print(q4_martial_arts)\n",
    "print(q4_concat)\n",
    "print(q4_fun_1)\n",
    "print(q4_fun_2)\n",
    "print(q4_fun_3)\n",
    "print(q4_fun_4)\n",
    "print(q4_space_cnt)"
   ]
  },
  {
   "cell_type": "code",
   "execution_count": null,
   "metadata": {},
   "outputs": [],
   "source": []
  }
 ],
 "metadata": {
  "kernelspec": {
   "display_name": "Python 3 (ipykernel)",
   "language": "python",
   "name": "python3"
  },
  "language_info": {
   "codemirror_mode": {
    "name": "ipython",
    "version": 3
   },
   "file_extension": ".py",
   "mimetype": "text/x-python",
   "name": "python",
   "nbconvert_exporter": "python",
   "pygments_lexer": "ipython3",
   "version": "3.10.9"
  }
 },
 "nbformat": 4,
 "nbformat_minor": 4
}
