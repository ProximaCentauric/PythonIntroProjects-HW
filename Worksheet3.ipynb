{
 "cells": [
  {
   "cell_type": "markdown",
   "metadata": {},
   "source": [
    "## Worksheet 3\n",
    "\n",
    "\n",
    "### Flow control: Conditions, Branches, and Loops. \n",
    "\n",
    "### Due on 5/31/23 @ 11:55 pm EST (see Assignment Folder in Sakai)"
   ]
  },
  {
   "cell_type": "markdown",
   "metadata": {},
   "source": [
    "## Authorized help and collaboration rules\n",
    "\n",
    "You **may not** collaborate with friends or teammates. You **may** use your notes, class provided resources (e.g., web links, notebooks,videos, slides) to help you solve the problems below. For effective learning, you should try to complete the worksheet on your own before looking for help. \n",
    "\n",
    "If you have any questions regarding what is, or is not, authorized you must ask. Saying after the fact you didn't understand, or were not sure, is not a valid excuse."
   ]
  },
  {
   "cell_type": "markdown",
   "metadata": {},
   "source": [
    "## Honor pledge\n",
    "\n",
    "I pledge the COMP 116 honor code.\n",
    "\n",
    "To the acknowledgethe **authororized help and collaboration rules** please edit the Markdown below and enter the requested information.\n",
    "\n",
    "```\n",
    "Onyen = mllandon\n",
    "Author = Matthew Landon\n",
    "PID = 730461081\n",
    "```"
   ]
  },
  {
   "cell_type": "markdown",
   "metadata": {},
   "source": [
    "## Python version check\n",
    "\n",
    "After running the next cell you should be running Python version `3.7.0` or later."
   ]
  },
  {
   "cell_type": "code",
   "execution_count": 2,
   "metadata": {},
   "outputs": [
    {
     "name": "stdout",
     "output_type": "stream",
     "text": [
      "3.8.5 (default, Sep  4 2020, 02:22:02) \n",
      "[Clang 10.0.0 ]\n"
     ]
    }
   ],
   "source": [
    "import sys\n",
    "print(sys.version)"
   ]
  },
  {
   "cell_type": "markdown",
   "metadata": {},
   "source": [
    "*****\n",
    "\n",
    "### Question 1: Palindrome Checker (5 points)\n",
    "\n",
    "A palindrome is a **text** word or phrase that reads the same backwards or forwards. For example, each of the following is a palindrome if letter case (i.e., upper and lower) and spaces (one or more) are ignored: `12321`, `racecar`, `radar`, and `Murder for a jar of red rum`. In the coding cell below, write a program that determines if the string stored in variable **user_input** is a palindrome. \n",
    "\n",
    "To recieve full credit your program **must** meet the following specification:\n",
    "- Ignore case and spaces in the string (Hint: <a href=\"https://www.w3schools.com/python/python_strings_methods.asp\">replace, upper, and lower</a> string functions). \n",
    "- Use a <a href=\"https://www.w3schools.com/python/python_for_loops.asp\">for</a> or <a href=\"https://www.w3schools.com/python/python_while_loops.asp\">while</a> loop.\n",
    "- If the string is a palindrome print **True**, else print **False**. The print statement does not need to be formatted. "
   ]
  },
  {
   "cell_type": "code",
   "execution_count": 7,
   "metadata": {},
   "outputs": [
    {
     "name": "stdout",
     "output_type": "stream",
     "text": [
      "Palindrome checker, enter text: Murder for a jar of red rum\n",
      "Murder for a jar of red rum\n",
      "False\n"
     ]
    }
   ],
   "source": [
    "# -------------------------------------\n",
    "# Do not change/modify/delete the two lines of code\n",
    "# -------------------------------------\n",
    "\n",
    "user_input = input(\"Palindrome checker, enter text: \")\n",
    "print( user_input )\n",
    "\n",
    "# -------------------------------------\n",
    "# Put your coding solution below\n",
    "# -------------------------------------\n",
    "x = True\n",
    "for i in range(0,len(user_input)//2):\n",
    "    if user_input.lower()[i] != user_input.lower()[int(len(user_input)-i-1)]:\n",
    "        x = False\n",
    "print(x)"
   ]
  },
  {
   "cell_type": "markdown",
   "metadata": {},
   "source": [
    "****"
   ]
  },
  {
   "cell_type": "markdown",
   "metadata": {},
   "source": [
    "****\n",
    "\n",
    "### Question 2: Factorial Calculator (5 Points)\n",
    "\n",
    "Compute the factorial (see equation below) for a nonnegative integer $n$. \n",
    "\n",
    "When $n \\geq 1$\n",
    "\\begin{equation}\n",
    "n! =  n~\\cdot~(n - 1)~\\cdot~(n - 2)~\\cdot~...~\\cdot~1\n",
    "\\end{equation}\n",
    "\n",
    "When $n = 0$\n",
    "\\begin{equation}\n",
    "n! = 1\n",
    "\\end{equation}\n",
    "\n",
    "In the coding cell below, write a program that computes the factoral of nonnegative integer that is stored in variable **n**. \n",
    "\n",
    "To recieve full credit your program **must** meet the following specification:\n",
    "- Use a <a href=\"https://www.w3schools.com/python/python_for_loops.asp\">for</a> or <a href=\"https://www.w3schools.com/python/python_while_loops.asp\">while</a> loop.\n",
    "- Print the result of the factorial calculation. \n",
    "- The print statement does not need to be formatted. "
   ]
  },
  {
   "cell_type": "code",
   "execution_count": 24,
   "metadata": {},
   "outputs": [
    {
     "name": "stdout",
     "output_type": "stream",
     "text": [
      "enter nonnegative integer value: 6\n",
      "6\n",
      "n!= 720\n"
     ]
    }
   ],
   "source": [
    "# -------------------------------------\n",
    "# Do not change/modify/delete the three lines of code\n",
    "# -------------------------------------\n",
    "\n",
    "n = input(\"enter nonnegative integer value: \")\n",
    "n = abs( int( n ) ) # convert text to nonnegative integer\n",
    "print( n )\n",
    "\n",
    "# -------------------------------------\n",
    "# Put your coding solution below\n",
    "# -------------------------------------\n",
    "\n",
    "product = 1\n",
    "\n",
    "while n >= 1:\n",
    "    product *= n\n",
    "    n -=1\n",
    "print(\"n!= \"+ str(product))"
   ]
  },
  {
   "cell_type": "markdown",
   "metadata": {},
   "source": [
    "****"
   ]
  },
  {
   "cell_type": "markdown",
   "metadata": {},
   "source": [
    "****\n",
    "\n",
    "### Question 3: Fun with asterisk patterns  (5 Points)\n",
    "\n",
    "In the coding cell below, write a program that prints the asterisk pattern shown below. **Note:** the first line has 10 asterisk characters. \n",
    "\n",
    "```\n",
    "**********\n",
    "*********\n",
    "********\n",
    "*******\n",
    "******\n",
    "*****\n",
    "****\n",
    "***\n",
    "**\n",
    "*\n",
    "``` \n",
    "To recieve full credit your program **must** meet the following specification:\n",
    "- Use a <a href=\"https://www.w3schools.com/python/python_for_loops.asp\">for</a> or <a href=\"https://www.w3schools.com/python/python_while_loops.asp\">while</a> loop.\n",
    "\n",
    "**Hints:**\n",
    "- To print a single asterisk that does not include a newline (i.e. move the cursor to the next line) can be achieved using:\n",
    "```python\n",
    "print(\"*\", end=\"\")\n",
    "```\n",
    "- You may use <a href=\"https://www.tutorialspoint.com/python/python_nested_loops.htm\">nested loops</a>, but not required. \n",
    "- Printing a repeated character in Python is simple. For example, to print the asterisk character three times:\n",
    "```python\n",
    "print( \"*\"*3 )\n",
    "```\n"
   ]
  },
  {
   "cell_type": "code",
   "execution_count": 15,
   "metadata": {},
   "outputs": [
    {
     "name": "stdout",
     "output_type": "stream",
     "text": [
      "**********\n",
      "*********\n",
      "********\n",
      "*******\n",
      "******\n",
      "*****\n",
      "****\n",
      "***\n",
      "**\n",
      "*\n"
     ]
    }
   ],
   "source": [
    "# -------------------------------------\n",
    "# Put your coding solution below\n",
    "# -------------------------------------\n",
    "x = \"***********\"\n",
    "while len(x) > 1:\n",
    "    x = x[:-1] \n",
    "    print(x)\n"
   ]
  },
  {
   "cell_type": "markdown",
   "metadata": {},
   "source": [
    "***"
   ]
  },
  {
   "cell_type": "markdown",
   "metadata": {},
   "source": [
    "****\n",
    "\n",
    "### Question 4: More fun with asterisk patterns  (5 Points)\n",
    "\n",
    "In the coding cell below, write a program that prints the asterisk pattern shown below. **Note:** the first line has 10 asterisk characters.\n",
    "\n",
    "```\n",
    "**********\n",
    " *********\n",
    "  ********\n",
    "   *******\n",
    "    ******\n",
    "     *****\n",
    "      ****\n",
    "       ***\n",
    "        **\n",
    "         *\n",
    "``` \n",
    "To recieve full credit your program **must** meet the following specification:\n",
    "- Use a <a href=\"https://www.w3schools.com/python/python_for_loops.asp\">for</a> or <a href=\"https://www.w3schools.com/python/python_while_loops.asp\">while</a> loop.\n",
    "\n",
    "**Hints:**\n",
    "- To print a single asterisk that does not include a newline (i.e. move the cursor to the next line) can be achieved using:\n",
    "```python\n",
    "print(\"*\", end=\"\")\n",
    "```\n",
    "- You may use <a href=\"https://www.tutorialspoint.com/python/python_nested_loops.htm\">nested loops</a>, but not required. \n",
    "- Printing repeated characters in Python is simple. For example, to print the asterisk character three times:\n",
    "```python\n",
    "print( \"*\"*3 )\n",
    "```\n"
   ]
  },
  {
   "cell_type": "code",
   "execution_count": 68,
   "metadata": {},
   "outputs": [
    {
     "name": "stdout",
     "output_type": "stream",
     "text": [
      "**********\n",
      " *********\n",
      "  ********\n",
      "   *******\n",
      "    ******\n",
      "     *****\n",
      "      ****\n",
      "       ***\n",
      "        **\n",
      "         *\n",
      "          \n"
     ]
    }
   ],
   "source": [
    "# -------------------------------------\n",
    "# Put your coding solution below\n",
    "# -------------------------------------\n",
    "A = \"**********\"\n",
    "print(A)\n",
    "for x in range (0,10):\n",
    "    A = A.replace(\"*\",\" \",1)\n",
    "    print(A)s"
   ]
  },
  {
   "cell_type": "code",
   "execution_count": null,
   "metadata": {},
   "outputs": [],
   "source": []
  }
 ],
 "metadata": {
  "kernelspec": {
   "display_name": "Python 3 (ipykernel)",
   "language": "python",
   "name": "python3"
  },
  "language_info": {
   "codemirror_mode": {
    "name": "ipython",
    "version": 3
   },
   "file_extension": ".py",
   "mimetype": "text/x-python",
   "name": "python",
   "nbconvert_exporter": "python",
   "pygments_lexer": "ipython3",
   "version": "3.10.9"
  }
 },
 "nbformat": 4,
 "nbformat_minor": 4
}
