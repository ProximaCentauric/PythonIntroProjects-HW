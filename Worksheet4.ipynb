{
 "cells": [
  {
   "cell_type": "markdown",
   "metadata": {},
   "source": [
    "## Worksheet 4\n",
    "\n",
    "\n",
    "### Functions\n",
    "\n",
    "### Due on 6/5/23 @ 11:55 pm EST (see Assignment Folder in Sakai)"
   ]
  },
  {
   "cell_type": "markdown",
   "metadata": {},
   "source": [
    "## Authorized help and collaboration rules\n",
    "\n",
    "You **may not** collaborate with friends or teammates. You **may** use your notes, class provided resources (e.g., web links, notebooks,videos, slides) to help you solve the problems below. For effective learning, you should try to complete the worksheet on your own before looking for help. \n",
    "\n",
    "If you have any questions regarding what is, or is not, authorized you must ask. Saying after the fact you didn't understand, or were not sure, is not a valid excuse."
   ]
  },
  {
   "cell_type": "markdown",
   "metadata": {},
   "source": [
    "## Honor pledge\n",
    "\n",
    "I pledge the COMP 116 honor code.\n",
    "\n",
    "To the acknowledgethe **authororized help and collaboration rules** please edit the Markdown below and enter the requested information.\n",
    "\n",
    "```\n",
    "Onyen = mllandon\n",
    "Author = Matthew Landon\n",
    "PID = 730461081\n",
    "```"
   ]
  },
  {
   "cell_type": "markdown",
   "metadata": {},
   "source": [
    "## Python version check\n",
    "\n",
    "After running the next cell you should be running Python version `3.7.0` or later."
   ]
  },
  {
   "cell_type": "code",
   "execution_count": 1,
   "metadata": {},
   "outputs": [
    {
     "name": "stdout",
     "output_type": "stream",
     "text": [
      "3.10.9 | packaged by Anaconda, Inc. | (main, Mar  1 2023, 18:18:15) [MSC v.1916 64 bit (AMD64)]\n"
     ]
    }
   ],
   "source": [
    "import sys\n",
    "print(sys.version)"
   ]
  },
  {
   "cell_type": "markdown",
   "metadata": {},
   "source": [
    "****\n",
    "\n",
    "### Question 1: Celsius Function  (5 Points)\n",
    "\n",
    "In the coding cell below, define a function named `celsius` that has one argument named `fahrenheit` that can be an integer or float value. Your function will convert the temperature from fahrenheit (F) to celsius (C) and using the equation shown below and then return the value.\n",
    "\n",
    "\\begin{equation}\n",
    "C = (F - 32) \\times 5/9\n",
    "\\end{equation}\n",
    "\n",
    "Function documentation <a href=\"https://www.w3schools.com/python/python_functions.asp\">w3school</a> and <a href=\"https://www.pythonlikeyoumeanit.com/Module2_EssentialsOfPython/Functions.html\">PLYMI</a>"
   ]
  },
  {
   "cell_type": "code",
   "execution_count": 2,
   "metadata": {},
   "outputs": [],
   "source": [
    "# -------------------------------------\n",
    "# Define your celsius function here\n",
    "# -------------------------------------\n",
    "\n",
    "def celsius(F):\n",
    "    C = (int(F)-32)*5/9\n",
    "    return C"
   ]
  },
  {
   "cell_type": "markdown",
   "metadata": {},
   "source": [
    "In the coding cell below, test your function. Specifically, \n",
    "- Create a list named **f_vals** that has the following fahrenheit temperatures **-32, 0, 32, 60, 70, 90, 100** (in this order)\n",
    "- Write a <a href=\"https://www.w3schools.com/python/python_for_loops.asp\">for</a> or <a href=\"https://www.w3schools.com/python/python_while_loops.asp\">while</a> loop that iterates through each temperature in **f_vals**.\n",
    "- For each temperature in **f_vals**, call your `celsius` function and then print the returned celsius temperature (using 2 decimal places).\n"
   ]
  },
  {
   "cell_type": "code",
   "execution_count": 3,
   "metadata": {},
   "outputs": [
    {
     "name": "stdout",
     "output_type": "stream",
     "text": [
      "-32 degrees Fahrenheit = -35.56 degrees Celsius.\n",
      "0 degrees Fahrenheit = -17.78 degrees Celsius.\n",
      "32 degrees Fahrenheit = 0.00 degrees Celsius.\n",
      "60 degrees Fahrenheit = 15.56 degrees Celsius.\n",
      "70 degrees Fahrenheit = 21.11 degrees Celsius.\n",
      "90 degrees Fahrenheit = 32.22 degrees Celsius.\n",
      "100 degrees Fahrenheit = 37.78 degrees Celsius.\n"
     ]
    }
   ],
   "source": [
    "# -------------------------------------\n",
    "# Test your celsius function here\n",
    "# -------------------------------------\n",
    "\n",
    "f_vals = [-32,0,32,60,70,90,100]\n",
    "for i in f_vals:\n",
    "    c_val_sentence = \"{0:d} degrees Fahrenheit = {1:.2f} degrees Celsius.\"\n",
    "    print(c_val_sentence.format(i,celsius(i)))"
   ]
  },
  {
   "cell_type": "markdown",
   "metadata": {},
   "source": [
    "*****\n",
    "\n",
    "### Question 2: Factorial Function (5 points)\n",
    "\n",
    "In the coding cell below, define a function named `fac` that has one argument named `n` that can only be a nonnegative integer value. Your function will compute the factorial using the equation shown below and then return the value.\n",
    "\n",
    "When $n \\geq 1$\n",
    "\\begin{equation}\n",
    "n! =  n~\\cdot~(n - 1)~\\cdot~(n - 2)~\\cdot~...~\\cdot~1\n",
    "\\end{equation}\n",
    "\n",
    "When $n = 0$\n",
    "\\begin{equation}\n",
    "n! = 1\n",
    "\\end{equation}\n",
    "\n",
    "Function documentation <a href=\"https://www.w3schools.com/python/python_functions.asp\">w3school</a> and <a href=\"https://www.pythonlikeyoumeanit.com/Module2_EssentialsOfPython/Functions.html\">PLYMI</a>"
   ]
  },
  {
   "cell_type": "code",
   "execution_count": 4,
   "metadata": {},
   "outputs": [],
   "source": [
    "# -------------------------------------\n",
    "# Define your factorial function here\n",
    "# -------------------------------------\n",
    "\n",
    "def fac(n):\n",
    "    n = abs(int(n))\n",
    "    product = 1\n",
    "    \n",
    "    while n >= 1:\n",
    "        product *= n \n",
    "        n-= 1\n",
    "    return product"
   ]
  },
  {
   "cell_type": "markdown",
   "metadata": {},
   "source": [
    "In the coding cell below, test your function. Specifically, \n",
    "- Create a list named **n_vals** that has the following integer values **0, 1, 2, 3, 4, 5, 6, 7, 8, 9, 10** (in this order)\n",
    "- Write a <a href=\"https://www.w3schools.com/python/python_for_loops.asp\">for</a> or <a href=\"https://www.w3schools.com/python/python_while_loops.asp\">while</a> loop that iterates through each value in **n_vals**.\n",
    "- For each value in **n_vals**, call your `fac` function and then print the returned factorial value (no formatting is needed).\n"
   ]
  },
  {
   "cell_type": "code",
   "execution_count": 5,
   "metadata": {
    "scrolled": true
   },
   "outputs": [
    {
     "name": "stdout",
     "output_type": "stream",
     "text": [
      "1\n",
      "1\n",
      "2\n",
      "6\n",
      "24\n",
      "120\n",
      "720\n",
      "5040\n",
      "40320\n",
      "362880\n",
      "3628800\n"
     ]
    }
   ],
   "source": [
    "# -------------------------------------\n",
    "# Test your factorial function here\n",
    "# -------------------------------------\n",
    "\n",
    "n_vals = [0,1,2,3,4,5,6,7,8,9,10]\n",
    "for i in n_vals:\n",
    "    j = fac(i)\n",
    "    print(j)"
   ]
  },
  {
   "cell_type": "markdown",
   "metadata": {},
   "source": [
    "*****\n",
    "\n",
    "### Question 3: Exponent Function (5 points)\n",
    "\n",
    "In the coding cell below, define a function named `expn` that has one argument named `x` that can be a integer or float value. Your function will compute the exponent using the equation shown below and then return the value.\n",
    "\n",
    "\\begin{equation}\n",
    "e^x = 1 + \\sum_{i=1}^{10} \\frac{x^i}{fac(i)}\n",
    "\\end{equation}\n",
    "\n",
    "**Important Notes**: \n",
    "- You **must** reuse the `fac` function defined in Question 2.\n",
    "- The summation can be computed using a <a href=\"https://www.w3schools.com/python/python_for_loops.asp\">for</a> or <a href=\"https://www.w3schools.com/python/python_while_loops.asp\">while</a> loop."
   ]
  },
  {
   "cell_type": "code",
   "execution_count": 6,
   "metadata": {},
   "outputs": [],
   "source": [
    "# -------------------------------------\n",
    "# Define your exponent function here\n",
    "# -------------------------------------\n",
    "\n",
    "def expn(x):\n",
    "    i=1\n",
    "    j=0\n",
    "    while i <= 10:\n",
    "        j=(x**i)/(fac(i))+j\n",
    "        i+=1\n",
    "    return j+1"
   ]
  },
  {
   "cell_type": "markdown",
   "metadata": {},
   "source": [
    "In the coding cell below, test your `expn(x)` function. Specifically, \n",
    "- Create a list named **x_vals** that has the following values **-3, -2.5, -1, 0, 1, 2.5, 3** (in this order)\n",
    "- Write a <a href=\"https://www.w3schools.com/python/python_for_loops.asp\">for</a> or <a href=\"https://www.w3schools.com/python/python_while_loops.asp\">while</a> loop that iterates through each value in **x_vals**.\n",
    "- For each value in **x_vals**, call your `expn` function and then print the returned exponent value (using 3 decimal places).\n"
   ]
  },
  {
   "cell_type": "code",
   "execution_count": 7,
   "metadata": {},
   "outputs": [
    {
     "name": "stdout",
     "output_type": "stream",
     "text": [
      "0.053\n",
      "0.083\n",
      "0.368\n",
      "1.000\n",
      "2.718\n",
      "12.182\n",
      "20.080\n"
     ]
    }
   ],
   "source": [
    "# -------------------------------------\n",
    "# Test your exponent function here\n",
    "# -------------------------------------\n",
    "\n",
    "x_vals = [-3,-2.5,-1,0,1,2.5,3]\n",
    "for k in x_vals:\n",
    "    e = expn(k)\n",
    "    print(\"{:.3f}\".format(e))\n"
   ]
  },
  {
   "cell_type": "markdown",
   "metadata": {},
   "source": [
    "****"
   ]
  },
  {
   "cell_type": "markdown",
   "metadata": {},
   "source": [
    "### Question 4: UNC Blue Triangles (5 points)\n",
    "\n",
    "<img src=\"unc-triangles.png\" width=\"150\" style=\"float: right\"/>\n",
    "\n",
    "Consider the image to the right that has 4 levels, where the first level has one UNC-blue triangle, the second level has two UNC-blue triangles, the third level has three UNC-blue triangles, and the fourth level has four UNC-blue triangles.\n",
    "\n",
    "Now imagine an image where the **number of levels** is a variable number. For instance,\n",
    "- if the number of levels = 1, then there is a total of 1 UNC blue triangle.\n",
    "- if the number of levels = 2, then there is a total of 3 UNC blue triangles.\n",
    "- if the number of levels = 3, then there is a total of 6 UNC blue triangles.\n",
    "- if the number of levels = 4, then there is a total of 10 UNC blue triangles.\n",
    "- obviously, if the number of levels =0, then there are 0 UNC blue triangles.\n",
    " \n",
    "In the coding cell below, define a function named `triangles` that has one argument named `number_of_levels` that can only be a nonnegative integer value. Your function will compute the total number of UNC blue triangles and then return the value.\n",
    "\n",
    "**Hint**: Try using <a href=\"https://en.wikipedia.org/wiki/Summation\">summation series</a> to determine the total number of triangles.\n"
   ]
  },
  {
   "cell_type": "code",
   "execution_count": 8,
   "metadata": {},
   "outputs": [],
   "source": [
    "# -------------------------------------\n",
    "# Define your triangle function here\n",
    "# -------------------------------------\n",
    "\n",
    "def triangles(number_of_levels):\n",
    "    i=0\n",
    "    j=0\n",
    "    while i <= number_of_levels:\n",
    "        j+=i\n",
    "        i+=1\n",
    "    return j"
   ]
  },
  {
   "cell_type": "markdown",
   "metadata": {},
   "source": [
    "In the coding cell below, test your function. Specifically, \n",
    "- Create a list named **n_level_vals** that has the following nonnegative integer values **0, 1, 2, 4, 6, 8, 10, 12, 20, 100** (in this order)\n",
    "- Write a <a href=\"https://www.w3schools.com/python/python_for_loops.asp\">for</a> or <a href=\"https://www.w3schools.com/python/python_while_loops.asp\">while</a> loop that iterates through each value in **n_level_vals**.\n",
    "- For each value in **n_level_vals**, call your `triangle` function and then print the returned value (no formatting is needed).\n"
   ]
  },
  {
   "cell_type": "code",
   "execution_count": 9,
   "metadata": {},
   "outputs": [
    {
     "name": "stdout",
     "output_type": "stream",
     "text": [
      "0\n",
      "1\n",
      "3\n",
      "10\n",
      "21\n",
      "36\n",
      "55\n",
      "78\n",
      "210\n",
      "5050\n"
     ]
    }
   ],
   "source": [
    "# -------------------------------------\n",
    "# Test your triangle function here\n",
    "# -------------------------------------\n",
    "n_level_vals = [0,1,2,4,6,8,10,12,20,100]\n",
    "for l in n_level_vals:\n",
    "    t = triangles(l)\n",
    "    print(t)"
   ]
  },
  {
   "cell_type": "code",
   "execution_count": null,
   "metadata": {},
   "outputs": [],
   "source": []
  }
 ],
 "metadata": {
  "kernelspec": {
   "display_name": "Python 3 (ipykernel)",
   "language": "python",
   "name": "python3"
  },
  "language_info": {
   "codemirror_mode": {
    "name": "ipython",
    "version": 3
   },
   "file_extension": ".py",
   "mimetype": "text/x-python",
   "name": "python",
   "nbconvert_exporter": "python",
   "pygments_lexer": "ipython3",
   "version": "3.10.9"
  }
 },
 "nbformat": 4,
 "nbformat_minor": 4
}
