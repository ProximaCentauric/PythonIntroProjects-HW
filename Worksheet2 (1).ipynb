{
 "cells": [
  {
   "cell_type": "markdown",
   "metadata": {},
   "source": [
    "## Worksheet 2\n",
    "\n",
    "\n",
    "### Data Structures (List, Set, Dictionary, and Numpy Array)\n",
    "\n",
    "### Due on 5/25/22 @ 11:55 pm EST (see Assignment Folder in Sakai)"
   ]
  },
  {
   "cell_type": "markdown",
   "metadata": {},
   "source": [
    "## Authorized help and collaboration rules\n",
    "\n",
    "You **may not** collaborate with friends or teammates. You **may** use your notes, class provided resources (e.g., web links, notebooks,videos, slides) to help you solve the problems below. For effective learning, you should try to complete the worksheet on your own before looking for help. \n",
    "\n",
    "If you have any questions regarding what is, or is not, authorized you must ask. Saying after the fact you didn't understand, or were not sure, is not a valid excuse."
   ]
  },
  {
   "cell_type": "markdown",
   "metadata": {},
   "source": [
    "## Honor pledge\n",
    "\n",
    "I pledge the COMP 116 honor code.\n",
    "\n",
    "To the acknowledgethe **authororized help and collaboration rules** please edit the Markdown below and enter the requested information.\n",
    "\n",
    "```\n",
    "Onyen = mllandon\n",
    "Author = Matthew Landon\n",
    "PID = 730461081\n",
    "```"
   ]
  },
  {
   "cell_type": "markdown",
   "metadata": {},
   "source": [
    "## Python version check\n",
    "\n",
    "After running the next cell you should be running Python version `3.7.0` or later."
   ]
  },
  {
   "cell_type": "code",
   "execution_count": 1,
   "metadata": {},
   "outputs": [
    {
     "name": "stdout",
     "output_type": "stream",
     "text": [
      "3.7.3 (default, Mar 27 2019, 16:54:48) \n",
      "[Clang 4.0.1 (tags/RELEASE_401/final)]\n"
     ]
    }
   ],
   "source": [
    "import sys\n",
    "print(sys.version)"
   ]
  },
  {
   "cell_type": "markdown",
   "metadata": {},
   "source": [
    "*****\n",
    "\n",
    "### Question 1: List Data Structure [6 Points Total]\n",
    "\n",
    "In each coding cell write the solution and then **print** the elements in **q1_list**. In total, there will be **ten** print statements, i.e., one print for each question part. **Note**: print statement does not need to be formatted. \n",
    "\n",
    "Documentation:\n",
    "- <a href=\"https://www.w3schools.com/python/python_lists.asp\">Syntax</a>\n",
    "- <a href=\"https://www.w3schools.com/python/python_lists_methods.asp\">Operations</a>"
   ]
  },
  {
   "cell_type": "markdown",
   "metadata": {},
   "source": [
    "Part 1 [0.5 pt]: Create a new list named **q1_list** that is empty (i.e., no elements)."
   ]
  },
  {
   "cell_type": "code",
   "execution_count": 39,
   "metadata": {},
   "outputs": [],
   "source": [
    "# Solution to Part 1\n",
    "\n",
    "q1_list = []"
   ]
  },
  {
   "cell_type": "markdown",
   "metadata": {},
   "source": [
    "Part 2 [1 pt]: Add the following elements to **q1_list** in the order specified below:\n",
    "- integer **42**     \n",
    "- float **3.14** \n",
    "- string **comp116**\n",
    "- string **the matrix**\n",
    "- Boolean **True** "
   ]
  },
  {
   "cell_type": "code",
   "execution_count": 40,
   "metadata": {},
   "outputs": [
    {
     "name": "stdout",
     "output_type": "stream",
     "text": [
      "[42, 3.14, 'comp116', 'the matrix', True]\n"
     ]
    }
   ],
   "source": [
    "# Solution to Part 2\n",
    "\n",
    "listaddons = [42, 3.14, \"comp116\", \"the matrix\", True]\n",
    "q1_list.extend(listaddons)\n",
    "print(q1_list)"
   ]
  },
  {
   "cell_type": "markdown",
   "metadata": {},
   "source": [
    "Part 3 [0.5 pt]: Remove the following elements from **q1_list**.\n",
    "- **comp116**\n",
    "- **the matrix**"
   ]
  },
  {
   "cell_type": "code",
   "execution_count": 11,
   "metadata": {},
   "outputs": [
    {
     "name": "stdout",
     "output_type": "stream",
     "text": [
      "[42, 3.14, True]\n"
     ]
    }
   ],
   "source": [
    "# Solution to Part 3\n",
    "q1_list.remove(\"comp116\")\n",
    "q1_list.remove(\"the matrix\")\n",
    "print(q1_list)"
   ]
  },
  {
   "cell_type": "markdown",
   "metadata": {},
   "source": [
    "Part 4 [1 pt]: Insert the following elements in **q1_list** at the specified positions.\n",
    "- Position 1, integer **-1**\n",
    "- Position 0, float **-10.25**\n",
    "- Position 2, float **42.0**\n"
   ]
  },
  {
   "cell_type": "code",
   "execution_count": 12,
   "metadata": {},
   "outputs": [
    {
     "name": "stdout",
     "output_type": "stream",
     "text": [
      "[-10.25, -1, 42.0, 42, 3.14, True]\n"
     ]
    }
   ],
   "source": [
    "# Solution to Part 4\n",
    "q1_list.insert(0, -10.25)\n",
    "q1_list.insert(1, -1)\n",
    "q1_list.insert(2, 42.0)\n",
    "print(q1_list)"
   ]
  },
  {
   "cell_type": "markdown",
   "metadata": {},
   "source": [
    "Part 5 [0.5 pt]: Append the following elements to **q1_list** in the order specified below.\n",
    "- integer **-100**\n",
    "- integer **116**\n",
    "- float **47.47**   \n"
   ]
  },
  {
   "cell_type": "code",
   "execution_count": 13,
   "metadata": {},
   "outputs": [
    {
     "name": "stdout",
     "output_type": "stream",
     "text": [
      "[-10.25, -1, 42.0, 42, 3.14, True, -100, 116, 47.47]\n"
     ]
    }
   ],
   "source": [
    "# Solution to Part 5\n",
    "\n",
    "q1_list.append(-100)\n",
    "q1_list.append(116)\n",
    "q1_list.append(47.47)\n",
    "print(q1_list)"
   ]
  },
  {
   "cell_type": "markdown",
   "metadata": {},
   "source": [
    "Part 6 [0.5 pt]: Reverse the order of the elements in **q1_list**.\n"
   ]
  },
  {
   "cell_type": "code",
   "execution_count": 14,
   "metadata": {},
   "outputs": [
    {
     "name": "stdout",
     "output_type": "stream",
     "text": [
      "[47.47, 116, -100, True, 3.14, 42, 42.0, -1, -10.25]\n"
     ]
    }
   ],
   "source": [
    "# Solution to Part 6\n",
    "import numpy as np\n",
    "\n",
    "q1_flipped_list = np.flip(q1_list)\n",
    "q1_list[::-1]\n",
    "print(q1_list[::-1])"
   ]
  },
  {
   "cell_type": "markdown",
   "metadata": {},
   "source": [
    "Part 7 [0.5 pt]: Sort the elements in **q1_list** in ascending order (i.e., element with the smallest value is at position 0 in the list, and element with the largest value is at the very last position in the list). \n"
   ]
  },
  {
   "cell_type": "code",
   "execution_count": 15,
   "metadata": {},
   "outputs": [
    {
     "name": "stdout",
     "output_type": "stream",
     "text": [
      "[-100, -10.25, -1, True, 3.14, 42.0, 42, 47.47, 116]\n"
     ]
    }
   ],
   "source": [
    "# Solution to Part 7\n",
    "\n",
    "q1_list.sort()\n",
    "print(q1_list)"
   ]
  },
  {
   "cell_type": "markdown",
   "metadata": {},
   "source": [
    "Part 8 [0.5 pt]: Sort the elements in **q1_list** in descending order (i.e., element with the largest value is at position 0 in the list, and element with the smallest value is at the very last position in the list). "
   ]
  },
  {
   "cell_type": "code",
   "execution_count": 16,
   "metadata": {},
   "outputs": [
    {
     "name": "stdout",
     "output_type": "stream",
     "text": [
      "[116, 47.47, 42.0, 42, 3.14, True, -1, -10.25, -100]\n"
     ]
    }
   ],
   "source": [
    "# Solution to Part 8\n",
    "\n",
    "q1_list.sort(reverse=True)\n",
    "print(q1_list)"
   ]
  },
  {
   "cell_type": "markdown",
   "metadata": {},
   "source": [
    "Part 9 [0.5 pt]: Create a variable named **q1_position** that holds the position of element **116** in **q1_list** (Hint: <a href=\"https://www.w3schools.com/python/ref_list_index.asp\">index</a>).\n"
   ]
  },
  {
   "cell_type": "code",
   "execution_count": 17,
   "metadata": {},
   "outputs": [
    {
     "name": "stdout",
     "output_type": "stream",
     "text": [
      "0\n"
     ]
    }
   ],
   "source": [
    "# Solution too Part 9\n",
    "\n",
    "q1_position = q1_list.index(116)\n",
    "print(q1_position)"
   ]
  },
  {
   "cell_type": "markdown",
   "metadata": {},
   "source": [
    "Part 10 [0.5 pt]: Remove all the elements in **q1_list** (i.e., empty list)."
   ]
  },
  {
   "cell_type": "code",
   "execution_count": 21,
   "metadata": {},
   "outputs": [],
   "source": [
    "# Solution to Part 10\n",
    "\n",
    "q1_list.clear()"
   ]
  },
  {
   "cell_type": "markdown",
   "metadata": {},
   "source": [
    "****"
   ]
  },
  {
   "cell_type": "markdown",
   "metadata": {},
   "source": [
    "****\n",
    "\n",
    "### Question 2 : Set Data Structure [5 Points Total]\n",
    "\n",
    "In each coding cell write the solution and then **print** the elements in the appropriate set variable. In total, there will be **seven** print statements, i.e., one print for each question part. **Note**: print statement does not need to be formatted. \n",
    "\n",
    "Documenation:\n",
    "- <a href=\"https://www.w3schools.com/python/python_sets.asp\">Syntax</a>\n",
    "- <a href=\"https://www.w3schools.com/python/python_sets_methods.asp\">Operations</a>"
   ]
  },
  {
   "cell_type": "markdown",
   "metadata": {},
   "source": [
    "Part 1 [0.5 pt]: Create a set named **q2_set_a** that is empty (i.e., zero elements)."
   ]
  },
  {
   "cell_type": "code",
   "execution_count": 94,
   "metadata": {},
   "outputs": [
    {
     "name": "stdout",
     "output_type": "stream",
     "text": [
      "set()\n",
      "0\n"
     ]
    }
   ],
   "source": [
    "# Solution to Part 1\n",
    "\n",
    "q2_set_a = set()\n",
    "print(q2_set_a)\n",
    "print(len(q2_set_a))"
   ]
  },
  {
   "cell_type": "markdown",
   "metadata": {},
   "source": [
    "Part 2 [1 pt]: Add the following elements to **q1_set_a** (remember, order is not important).\n",
    "- integer **42**     \n",
    "- float **3.14** \n",
    "- string **comp116**\n",
    "- string **the matrix**\n",
    "- Boolean **True** "
   ]
  },
  {
   "cell_type": "code",
   "execution_count": 95,
   "metadata": {},
   "outputs": [
    {
     "name": "stdout",
     "output_type": "stream",
     "text": [
      "{True, 3.14, 'the matrix', 42, 'comp116'}\n"
     ]
    }
   ],
   "source": [
    "# Solution to Part 2\n",
    "\n",
    "setaddon = {42,3.14,\"comp116\",\"the matrix\", True}\n",
    "q2_set_a.update(setaddon)\n",
    "print(q2_set_a)"
   ]
  },
  {
   "cell_type": "markdown",
   "metadata": {},
   "source": [
    "Part 3 [0.5 pt]: Remove the following elements from **q2_set_a**.\n",
    "- **comp116**\n",
    "- **the matrix**"
   ]
  },
  {
   "cell_type": "code",
   "execution_count": 96,
   "metadata": {},
   "outputs": [
    {
     "name": "stdout",
     "output_type": "stream",
     "text": [
      "{True, 3.14, 42}\n"
     ]
    }
   ],
   "source": [
    "# Solution to Part 3\n",
    "\n",
    "q2_set_a.remove(\"comp116\")\n",
    "q2_set_a.remove(\"the matrix\")\n",
    "print(q2_set_a)"
   ]
  },
  {
   "cell_type": "markdown",
   "metadata": {},
   "source": [
    "Part 4 [0.5 pt]: Create a set named **q2_set_b** that is intialized with the following elements:\n",
    "- integer **-1**\n",
    "- float **-10.25**\n",
    "- float **42.0**"
   ]
  },
  {
   "cell_type": "code",
   "execution_count": 97,
   "metadata": {},
   "outputs": [],
   "source": [
    "# Solution to Part 4\n",
    "\n",
    "q2_set_b = {-1,-10.25,42.0}"
   ]
  },
  {
   "cell_type": "markdown",
   "metadata": {},
   "source": [
    "Part 5 [1 pt]: Crete a set named **q2_intersection** that includes values that are in both sets, i.e., the intersection $a \\cap b$.  \n"
   ]
  },
  {
   "cell_type": "code",
   "execution_count": 98,
   "metadata": {},
   "outputs": [
    {
     "name": "stdout",
     "output_type": "stream",
     "text": [
      "{42.0}\n"
     ]
    }
   ],
   "source": [
    "# Solution to Part 5\n",
    "\n",
    "q2_intersection = q2_set_a.intersection(q2_set_b)\n",
    "print(q2_intersection)"
   ]
  },
  {
   "cell_type": "markdown",
   "metadata": {},
   "source": [
    "Part 6 [1 pt]: Crete a set named **q2_union** that includes values that are in either set, i.e., the union $a \\cup b$.  "
   ]
  },
  {
   "cell_type": "code",
   "execution_count": 55,
   "metadata": {},
   "outputs": [
    {
     "name": "stdout",
     "output_type": "stream",
     "text": [
      "{True, 3.14, -10.25, 42, -1}\n"
     ]
    }
   ],
   "source": [
    "# Solution to Part 6\n",
    "\n",
    "q2_union = q2_set_a.union(q2_set_b)\n",
    "print(q2_union)"
   ]
  },
  {
   "cell_type": "markdown",
   "metadata": {},
   "source": [
    "Part 7 [0.5 pt]: Remove all elements in **q2_set_a** (i.e., empty set) "
   ]
  },
  {
   "cell_type": "code",
   "execution_count": 56,
   "metadata": {},
   "outputs": [
    {
     "name": "stdout",
     "output_type": "stream",
     "text": [
      "set()\n"
     ]
    }
   ],
   "source": [
    "# Solution to Part 7\n",
    "\n",
    "q2_set_a.clear()\n",
    "print(q2_set_a)"
   ]
  },
  {
   "cell_type": "markdown",
   "metadata": {},
   "source": [
    "****"
   ]
  },
  {
   "cell_type": "markdown",
   "metadata": {},
   "source": [
    "*****\n",
    "\n",
    "### Question 3: Dictionary Data Structure [5 Points Total]\n",
    "\n",
    "In each coding cell write the solution and then **print** the elements in **q3_dict**. In total, there will be **seven** print statements, i.e., one print for each question part. **Note**: print statement does not need to be formatted. \n",
    "\n",
    "Documentation:\n",
    "- <a href=\"https://www.w3schools.com/python/python_dictionaries.asp\">Syntax</a>\n",
    "- <a href=\"https://www.w3schools.com/python/python_dictionaries_methods.asp\">Operations</a>"
   ]
  },
  {
   "cell_type": "markdown",
   "metadata": {},
   "source": [
    "Part 1 [0.5 pt]: Create a dictionary named **q3_dict** that is initially empty (i.e., zero key-value pairs)"
   ]
  },
  {
   "cell_type": "code",
   "execution_count": 32,
   "metadata": {},
   "outputs": [],
   "source": [
    "# Solution to Part 1\n",
    "\n",
    "q3_dict = {}\n"
   ]
  },
  {
   "cell_type": "markdown",
   "metadata": {},
   "source": [
    "Part 2 [1 pt]: Add the following key-value pairs to **q3_dict** (data types are defined in the parentheses).\n",
    "- Key **first_name** (string) with value **Keanu** (string)   \n",
    "- Key **last_name** (string) with value **Reeves** (string)\n",
    "- Key **age** (string) with value **56** (integer)\n",
    "- Key **year** (string) with value **1999** (integer)\n",
    "- Key **famous_qoute** (string) with value **I know kung-fu** (string)\n",
    "- Key **favorite_number** (string) with value **42** (integer)\n",
    "- Key **co_star** (string) with value **Morpheus** (string)\n"
   ]
  },
  {
   "cell_type": "code",
   "execution_count": 33,
   "metadata": {},
   "outputs": [
    {
     "name": "stdout",
     "output_type": "stream",
     "text": [
      "{'first_name': 'Keanu', 'last_name': 'Reeves', 'age': 56, 'year': 1999, 'famous_quote': 'I know kung-fu', 'favorite_number': 42, 'co_star': 'Morpheus'}\n"
     ]
    }
   ],
   "source": [
    "# Solution to Part 2\n",
    "q3_dict = dict()\n",
    "q3_dict[\"first_name\"] = \"Keanu\"\n",
    "q3_dict[\"last_name\"] = \"Reeves\"\n",
    "q3_dict[\"age\"] = 56\n",
    "q3_dict[\"year\"] = 1999\n",
    "q3_dict[\"famous_quote\"] = \"I know kung-fu\"\n",
    "q3_dict[\"favorite_number\"] = 42\n",
    "q3_dict[\"co_star\"] = \"Morpheus\"\n",
    "\n",
    "print(q3_dict)"
   ]
  },
  {
   "cell_type": "markdown",
   "metadata": {},
   "source": [
    "Part 3 [0.5 pt]: Remove the following keys (and associated values) from **q3_dict**.\n",
    "- **year**\n",
    "- **favorite_number**"
   ]
  },
  {
   "cell_type": "code",
   "execution_count": 34,
   "metadata": {},
   "outputs": [
    {
     "name": "stdout",
     "output_type": "stream",
     "text": [
      "{'first_name': 'Keanu', 'last_name': 'Reeves', 'age': 56, 'famous_quote': 'I know kung-fu', 'co_star': 'Morpheus'}\n"
     ]
    }
   ],
   "source": [
    "# Solution to Part 3\n",
    "\n",
    "q3_dict.pop(\"year\")\n",
    "q3_dict.pop(\"favorite_number\")\n",
    "print(q3_dict)"
   ]
  },
  {
   "cell_type": "markdown",
   "metadata": {},
   "source": [
    "Part 4 [1 pt]: For the **q3_dict** keys update their values as specified below.\n",
    "- **famous_qoute** with **We need guns. Lots of guns** (string)\n",
    "- **co_star** with **Trinity** (string)"
   ]
  },
  {
   "cell_type": "code",
   "execution_count": 35,
   "metadata": {},
   "outputs": [
    {
     "name": "stdout",
     "output_type": "stream",
     "text": [
      "{'first_name': 'Keanu', 'last_name': 'Reeves', 'age': 56, 'famous_quote': 'We need guns. Lots of guns', 'co_star': 'Trinity'}\n"
     ]
    }
   ],
   "source": [
    "# Solution to Part 4\n",
    "\n",
    "q3_dict.update({\"famous_quote\":\"We need guns. Lots of guns\"})\n",
    "q3_dict.update({\"co_star\":\"Trinity\"})\n",
    "print(q3_dict)"
   ]
  },
  {
   "cell_type": "markdown",
   "metadata": {},
   "source": [
    "Part 5 [0.5 pt]: Add the key-value pair to **q3_dict** (data types are defined in the parentheses).\n",
    "- Key **year** (string) with value **1999** (integer)\n"
   ]
  },
  {
   "cell_type": "code",
   "execution_count": 36,
   "metadata": {},
   "outputs": [
    {
     "name": "stdout",
     "output_type": "stream",
     "text": [
      "{'first_name': 'Keanu', 'last_name': 'Reeves', 'age': 56, 'famous_quote': 'We need guns. Lots of guns', 'co_star': 'Trinity', 'year': 1999}\n"
     ]
    }
   ],
   "source": [
    "# Solution to Part 5\n",
    "\n",
    "q3_dict.update({\"year\": 1999})\n",
    "print(q3_dict)"
   ]
  },
  {
   "cell_type": "markdown",
   "metadata": {},
   "source": [
    "Part 6 [1 pt]: Create a new **list** data structure named **keys_list** that includes each key in **q3_dict**. (Hint: <a href=\"https://www.w3schools.com/python/ref_dictionary_keys.asp\">keys()</a>)."
   ]
  },
  {
   "cell_type": "code",
   "execution_count": 37,
   "metadata": {},
   "outputs": [
    {
     "name": "stdout",
     "output_type": "stream",
     "text": [
      "dict_keys(['first_name', 'last_name', 'age', 'famous_quote', 'co_star', 'year'])\n"
     ]
    }
   ],
   "source": [
    "# Solution to Part 6\n",
    "\n",
    "keys_list = q3_dict.keys()\n",
    "print(keys_list)"
   ]
  },
  {
   "cell_type": "markdown",
   "metadata": {},
   "source": [
    "Part 7 [0.5 pt]: Remove all the key-value pairs in **q3_dict** (i.e., empty dictionary) "
   ]
  },
  {
   "cell_type": "code",
   "execution_count": 38,
   "metadata": {},
   "outputs": [
    {
     "name": "stdout",
     "output_type": "stream",
     "text": [
      "{}\n"
     ]
    }
   ],
   "source": [
    "# Solution to Part 7\n",
    "\n",
    "q3_dict.clear()\n",
    "print(q3_dict)"
   ]
  },
  {
   "cell_type": "markdown",
   "metadata": {},
   "source": [
    "***"
   ]
  },
  {
   "cell_type": "markdown",
   "metadata": {},
   "source": [
    "****\n",
    "### Question 4: Numpy Array Data Structure [4 Points Total]\n",
    "\n",
    "In each coding cell write the solution and then **print** the elements in **q4_array**. In total, there will be **six** print statements, i.e., one print for each question part. **Note**: print statement does not need to be formatted. \n",
    "\n",
    "Documentation:\n",
    "- <a href=\"https://www.w3schools.com/python/numpy/numpy_creating_arrays.asp\">W3School</a>\n",
    "- <a href=\"https://numpy.org/doc/stable/reference/generated/numpy.array.html\">Reference</a>\n",
    "- <a href=\"https://numpy.org/doc/stable/reference/routines.math.html#\">Math operations</a>\n",
    "- <a href=\"https://numpy.org/doc/stable/reference/routines.sort.html\">Search and Sort</a>"
   ]
  },
  {
   "cell_type": "markdown",
   "metadata": {},
   "source": [
    "Part 1 [0.5 pt]: Create a 1D numpy array named **q4_array** that stores five integers that are initially set to zero.\n",
    "\n",
    "\n"
   ]
  },
  {
   "cell_type": "code",
   "execution_count": 2,
   "metadata": {},
   "outputs": [
    {
     "name": "stdout",
     "output_type": "stream",
     "text": [
      "[0 0 0 0 0]\n"
     ]
    }
   ],
   "source": [
    "# Solution to Part 1\n",
    "\n",
    "import numpy as np\n",
    "\n",
    "q4_array = np.array([0,0,0,0,0])\n",
    "print(q4_array)"
   ]
  },
  {
   "cell_type": "markdown",
   "metadata": {},
   "source": [
    "Part 2 [1 pt]: Update the value at the following positions in **q4_array**:\n",
    "- position 3 to **100**\n",
    "- position 0 to **200**\n",
    "- position 1 to **-10**\n",
    "- position 2 to **15**\n",
    "- position 4 to **-42**\n"
   ]
  },
  {
   "cell_type": "code",
   "execution_count": 3,
   "metadata": {},
   "outputs": [
    {
     "name": "stdout",
     "output_type": "stream",
     "text": [
      "[200 -10  15 100 -42]\n"
     ]
    }
   ],
   "source": [
    "# Solution to Part 2\n",
    "\n",
    "q4_array[3] = 100\n",
    "q4_array[0] = 200\n",
    "q4_array[1] = -10\n",
    "q4_array[2] = 15\n",
    "q4_array[4] = -42\n",
    "print(q4_array)"
   ]
  },
  {
   "cell_type": "markdown",
   "metadata": {},
   "source": [
    "Part 3 [0.5 pt]: Update the values in **q4_array** at the following positions.\n",
    "- position 1 to **-20** \n",
    "- position 0 to **20**"
   ]
  },
  {
   "cell_type": "code",
   "execution_count": 4,
   "metadata": {},
   "outputs": [
    {
     "name": "stdout",
     "output_type": "stream",
     "text": [
      "[ 20 -20  15 100 -42]\n"
     ]
    }
   ],
   "source": [
    "# Solution to Part 3\n",
    "\n",
    "q4_array[1] = -20\n",
    "q4_array[0] = 20\n",
    "print(q4_array)"
   ]
  },
  {
   "cell_type": "markdown",
   "metadata": {},
   "source": [
    "Part 4 [1 pt]: Reverse the order of the values in **q4_array** (Hint: <a href=\"https://numpy.org/doc/stable/reference/generated/numpy.flip.html\">flip</a>).\n"
   ]
  },
  {
   "cell_type": "code",
   "execution_count": 5,
   "metadata": {},
   "outputs": [
    {
     "name": "stdout",
     "output_type": "stream",
     "text": [
      "[-42 100  15 -20  20]\n"
     ]
    }
   ],
   "source": [
    "# Solution to Part 4\n",
    "\n",
    "q4_flipped = np.flip(q4_array)\n",
    "q4_array[::-1]\n",
    "print(q4_array[::-1])"
   ]
  },
  {
   "cell_type": "markdown",
   "metadata": {},
   "source": [
    "Part 5 [0.5 pt]: Sort the values in **q4_array** in ascending order.\n"
   ]
  },
  {
   "cell_type": "code",
   "execution_count": 6,
   "metadata": {},
   "outputs": [
    {
     "name": "stdout",
     "output_type": "stream",
     "text": [
      "[-42 -20  15  20 100]\n"
     ]
    }
   ],
   "source": [
    "# Solution to Part 5\n",
    "q4_array_ascending = np.sort(q4_array)\n",
    "print(q4_array_ascending)"
   ]
  },
  {
   "cell_type": "markdown",
   "metadata": {},
   "source": [
    "Part 6 [0.5 pt]: Sort the values in **q4_array** in decending order."
   ]
  },
  {
   "cell_type": "code",
   "execution_count": 7,
   "metadata": {},
   "outputs": [
    {
     "name": "stdout",
     "output_type": "stream",
     "text": [
      "[100  20  15 -20 -42]\n"
     ]
    }
   ],
   "source": [
    "# Solution to Part 6\n",
    "\n",
    "q4_array_descending = q4_array_ascending[::-1]\n",
    "print(q4_array_descending)"
   ]
  },
  {
   "cell_type": "code",
   "execution_count": null,
   "metadata": {},
   "outputs": [],
   "source": []
  }
 ],
 "metadata": {
  "kernelspec": {
   "display_name": "Python 3 (ipykernel)",
   "language": "python",
   "name": "python3"
  },
  "language_info": {
   "codemirror_mode": {
    "name": "ipython",
    "version": 3
   },
   "file_extension": ".py",
   "mimetype": "text/x-python",
   "name": "python",
   "nbconvert_exporter": "python",
   "pygments_lexer": "ipython3",
   "version": "3.10.9"
  }
 },
 "nbformat": 4,
 "nbformat_minor": 4
}
